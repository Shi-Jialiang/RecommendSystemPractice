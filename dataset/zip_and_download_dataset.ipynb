{
 "cells": [
  {
   "cell_type": "code",
   "execution_count": 9,
   "id": "e03e8925",
   "metadata": {},
   "outputs": [],
   "source": [
    "import gzip\n",
    "import os\n",
    "import tarfile\n",
    "import zipfile\n",
    "\n",
    "# gz\n",
    "# 因为gz一般仅仅压缩一个文件，全部常与其它打包工具一起工作。比方能够先用tar打包为XXX.tar,然后在压缩为XXX.tar.gz\n",
    "# 解压gz，事实上就是读出当中的单一文件\n",
    "def un_gz(file_name):\n",
    "    \"\"\"ungz zip file\"\"\"\n",
    "    f_name = file_name.replace(\".gz\", \"\")\n",
    "    #获取文件的名称，去掉\n",
    "    g_file = gzip.GzipFile(file_name)\n",
    "    #创建gzip对象\n",
    "    open(f_name, \"w+\").write(g_file.read())\n",
    "    #gzip对象用read()打开后，写入open()建立的文件里。\n",
    "    g_file.close()\n",
    "    #关闭gzip对象\n",
    "\n",
    "# tar\n",
    "# XXX.tar.gz解压后得到XXX.tar，还要进一步解压出来。\n",
    "# 注：tgz与tar.gz是同样的格式，老版本号DOS扩展名最多三个字符，故用tgz表示。\n",
    "# 因为这里有多个文件，我们先读取全部文件名称。然后解压。例如以下：\n",
    "# 注：tgz文件与tar文件同样的解压方法。\n",
    "def un_tar(file_name):\n",
    "       # untar zip file\"\"\"\n",
    "    tar = tarfile.open(file_name)\n",
    "    names = tar.getnames()\n",
    "    if os.path.isdir(file_name + \"_files\"):\n",
    "        pass\n",
    "    else:\n",
    "        os.mkdir(file_name + \"_files\")\n",
    "    #因为解压后是很多文件，预先建立同名目录\n",
    "    for name in names:\n",
    "        tar.extract(name, file_name + \"_files/\")\n",
    "    tar.close()\n",
    "\n",
    "# zip\n",
    "# 与tar类似，先读取多个文件名称，然后解压。例如以下：\n",
    "def un_zip(file_name):\n",
    "    \"\"\"unzip zip file\"\"\"\n",
    "    zip_file = zipfile.ZipFile(file_name)\n",
    "    if os.path.isdir(file_name + \"_files\"):\n",
    "        pass\n",
    "    else:\n",
    "        os.mkdir(file_name + \"_files\")\n",
    "    for names in zip_file.namelist():\n",
    "        zip_file.extract(names,file_name + \"_files/\")\n",
    "    zip_file.close()"
   ]
  },
  {
   "cell_type": "code",
   "execution_count": 1,
   "id": "027ead2c",
   "metadata": {},
   "outputs": [],
   "source": [
    "def zipDir(dirpath,outFullName):\n",
    "    \"\"\"\n",
    "    压缩指定文件夹\n",
    "    :param dirpath: 目标文件夹路径\n",
    "    :param outFullName: 压缩文件保存路径+xxxx.zip\n",
    "    :return: 无\n",
    "    \"\"\"\n",
    "    zip = zipfile.ZipFile(outFullName,\"w\",zipfile.ZIP_DEFLATED)\n",
    "    for path,dirnames,filenames in os.walk(dirpath):\n",
    "        # 去掉目标跟路径，只对目标文件夹下边的文件及文件夹进行压缩\n",
    "        fpath = path.replace(dirpath,'')\n",
    "\n",
    "        for filename in filenames:\n",
    "            zip.write(os.path.join(path,filename),os.path.join(fpath,filename))\n",
    "    zip.close()"
   ]
  },
  {
   "cell_type": "code",
   "execution_count": null,
   "id": "8f6f13fd",
   "metadata": {},
   "outputs": [],
   "source": []
  }
 ],
 "metadata": {
  "kernelspec": {
   "display_name": "Python 3",
   "language": "python",
   "name": "python3"
  },
  "language_info": {
   "codemirror_mode": {
    "name": "ipython",
    "version": 3
   },
   "file_extension": ".py",
   "mimetype": "text/x-python",
   "name": "python",
   "nbconvert_exporter": "python",
   "pygments_lexer": "ipython3",
   "version": "3.8.8"
  }
 },
 "nbformat": 4,
 "nbformat_minor": 5
}
